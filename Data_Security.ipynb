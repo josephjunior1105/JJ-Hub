{
  "nbformat": 4,
  "nbformat_minor": 0,
  "metadata": {
    "colab": {
      "provenance": [],
      "collapsed_sections": [
        "KWUIOHFD9C7u"
      ],
      "toc_visible": true,
      "authorship_tag": "ABX9TyMCTspM7juQua0/vWE71TKH",
      "include_colab_link": true
    },
    "kernelspec": {
      "name": "python3",
      "display_name": "Python 3"
    },
    "language_info": {
      "name": "python"
    }
  },
  "cells": [
    {
      "cell_type": "markdown",
      "metadata": {
        "id": "view-in-github",
        "colab_type": "text"
      },
      "source": [
        "<a href=\"https://colab.research.google.com/github/josephjunior1105/JJ-Hub/blob/main/Data_Security.ipynb\" target=\"_parent\"><img src=\"https://colab.research.google.com/assets/colab-badge.svg\" alt=\"Open In Colab\"/></a>"
      ]
    },
    {
      "cell_type": "markdown",
      "source": [
        "#Password Validation"
      ],
      "metadata": {
        "id": "KWUIOHFD9C7u"
      }
    },
    {
      "cell_type": "code",
      "source": [
        "def validate_password(password):\n",
        "    # To Crosscheck the length\n",
        "    if not (8 <= len(password) <= 12):\n",
        "        return False\n",
        "\n",
        "    # To Check for capital and lowercase letters, and at least one number\n",
        "    has_upper = any(char.isupper() for char in password)\n",
        "    has_lower = any(char.islower() for char in password)\n",
        "    has_number = any(char.isdigit() for char in password)\n",
        "\n",
        "    # To Check for at least 2 capital or lowercase letters\n",
        "    count_letters = sum(1 for char in password if char.isalpha())\n",
        "\n",
        "    # Checking for spaces\n",
        "    has_spaces = ' ' in password\n",
        "\n",
        "    if has_upper and has_lower and has_number and count_letters >= 2 and not has_spaces:\n",
        "        return True\n",
        "    return False\n",
        "\n",
        "# Representation of Script:\n",
        "user_input_password = input(\"Enter your password: \")\n",
        "\n",
        "if validate_password(user_input_password):\n",
        "    print(\"Password meets the criteria.\")\n",
        "else:\n",
        "    print(\"Password does not meet the criteria.\")\n"
      ],
      "metadata": {
        "colab": {
          "base_uri": "https://localhost:8080/"
        },
        "id": "ZYUeRiKJ9Hfr",
        "outputId": "54af8cfe-3e5d-48dd-f344-f869264e9b65"
      },
      "execution_count": 11,
      "outputs": [
        {
          "output_type": "stream",
          "name": "stdout",
          "text": [
            "Enter your password: Joseph1234\n",
            "Password meets the criteria.\n"
          ]
        }
      ]
    },
    {
      "cell_type": "markdown",
      "source": [
        "# **PASSWORD ENCRYPTION AND DECRYPTION**"
      ],
      "metadata": {
        "id": "WUtgnyYeELeM"
      }
    },
    {
      "cell_type": "code",
      "source": [
        "pip install bcrypt"
      ],
      "metadata": {
        "colab": {
          "base_uri": "https://localhost:8080/"
        },
        "id": "X4b6HeTkBTGr",
        "outputId": "293664ef-b3ec-49c7-9a08-6eb32f26c341"
      },
      "execution_count": 7,
      "outputs": [
        {
          "output_type": "stream",
          "name": "stdout",
          "text": [
            "Collecting bcrypt\n",
            "  Downloading bcrypt-4.1.2-cp39-abi3-manylinux_2_28_x86_64.whl (698 kB)\n",
            "\u001b[2K     \u001b[90m━━━━━━━━━━━━━━━━━━━━━━━━━━━━━━━━━━━━━━━━\u001b[0m \u001b[32m698.9/698.9 kB\u001b[0m \u001b[31m5.6 MB/s\u001b[0m eta \u001b[36m0:00:00\u001b[0m\n",
            "\u001b[?25hInstalling collected packages: bcrypt\n",
            "Successfully installed bcrypt-4.1.2\n"
          ]
        }
      ]
    },
    {
      "cell_type": "code",
      "source": [
        "import bcrypt\n",
        "\n",
        "def encrypt_password(password):\n",
        "    # Hashing password\n",
        "    hashed = bcrypt.hashpw(password.encode(), bcrypt.gensalt())\n",
        "    return hashed\n",
        "\n",
        "def verify_password(hashed, password):\n",
        "    # Verifying password\n",
        "    return bcrypt.checkpw(password.encode(), hashed)\n",
        "\n",
        "# Representation of  Script:\n",
        "username_input = \"josephjunior1\"\n",
        "password_input = \"Joseph1105\"\n",
        "\n",
        "encrypted_password = encrypt_password(password_input)\n",
        "print(\"Encrypted Password:\", encrypted_password)\n",
        "\n",
        "# Verifying example login\n",
        "user_password_input = input(\"Enter your password to log in: \")\n",
        "if verify_password(encrypted_password, user_password_input):\n",
        "    print(\"Login successful.\")\n",
        "else:\n",
        "    print(\"Login unsuccessful.\")\n"
      ],
      "metadata": {
        "colab": {
          "base_uri": "https://localhost:8080/"
        },
        "id": "of0Py77HBms_",
        "outputId": "41785115-6a5d-48e5-a186-688c10bb7980"
      },
      "execution_count": 15,
      "outputs": [
        {
          "output_type": "stream",
          "name": "stdout",
          "text": [
            "Encrypted Password: b'$2b$12$2dLYGs.qlE0Xa1u6yG3ce.pEEMsG22V95nmYd0gHeu5.v.Dd/Oiby'\n",
            "Enter your password to log in: Ghana123\n",
            "Login unsuccessful.\n"
          ]
        }
      ]
    },
    {
      "cell_type": "markdown",
      "source": [
        "# **MULTIFACTOR AUTHENTICATION**"
      ],
      "metadata": {
        "id": "IeWdijmEDgdN"
      }
    },
    {
      "cell_type": "code",
      "source": [
        "pip install pyotp"
      ],
      "metadata": {
        "colab": {
          "base_uri": "https://localhost:8080/"
        },
        "id": "e-Emh4Q3D14z",
        "outputId": "9315059a-eb63-4bf6-af27-24eb7605e6c3"
      },
      "execution_count": 16,
      "outputs": [
        {
          "output_type": "stream",
          "name": "stdout",
          "text": [
            "Collecting pyotp\n",
            "  Downloading pyotp-2.9.0-py3-none-any.whl (13 kB)\n",
            "Installing collected packages: pyotp\n",
            "Successfully installed pyotp-2.9.0\n"
          ]
        }
      ]
    },
    {
      "cell_type": "code",
      "source": [
        "import pyotp\n",
        "import time\n",
        "\n",
        "def generate_otp():\n",
        "    # Generating of a new one-time pin\n",
        "    totp = pyotp.TOTP(pyotp.random_base32(), interval=25)\n",
        "    return totp.now()\n",
        "\n",
        "def verify_user(otp, saved_otp):\n",
        "    # Simulating verification of user using OTP\n",
        "    return otp == saved_otp\n",
        "\n",
        "# Demonstration of multifactor authentication\n",
        "otp = generate_otp()\n",
        "print(\"Generated One-Time PIN:\", otp)\n",
        "\n",
        "user_otp_entered = input(\"Enter the one-time PIN: \")\n",
        "if verify_user(user_otp_entered, otp):\n",
        "    print(\"User verified successfully.\")\n",
        "    time.sleep(30)  # Simulating a 30-second wait\n",
        "    otp_again = generate_otp()\n",
        "    print(\"Generated One-Time PIN after 30 seconds:\", otp_again)\n",
        "\n",
        "    user_otp_again = input(\"Enter the one-time PIN again after 30 seconds: \")\n",
        "    if verify_user(user_otp_again, otp_again):\n",
        "        print(\"Second verification successful.\")\n",
        "    else:\n",
        "        print(\"Second verification unsuccessful.\")\n",
        "else:\n",
        "    print(\"User verification failed.\")\n"
      ],
      "metadata": {
        "colab": {
          "base_uri": "https://localhost:8080/"
        },
        "id": "aUnTAmGuE53Y",
        "outputId": "fc124dbc-34bb-41c5-b0b2-5be97a5eb77b"
      },
      "execution_count": 26,
      "outputs": [
        {
          "output_type": "stream",
          "name": "stdout",
          "text": [
            "Generated One-Time PIN: 577290\n",
            "Enter the one-time PIN: 54522\n",
            "User verification failed.\n"
          ]
        }
      ]
    }
  ]
}